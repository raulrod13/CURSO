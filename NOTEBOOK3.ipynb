{
 "cells": [
  {
   "cell_type": "markdown",
   "metadata": {
    "collapsed": false
   },
   "source": [
    "# PELOTA QUE CAE\n",
    "Las ecuaciones de newton son:\n",
    "    $m \\frac{d^2\\vec r}{dt²}=-g \\hat k + \\vec f_{fricc}+\\vec f_{ext}$\n",
    "    \n",
    "    \n",
    "    \n",
    "    "
   ]
  },
  {
   "cell_type": "code",
   "execution_count": 203,
   "metadata": {
    "collapsed": false
   },
   "outputs": [],
   "source": [
    "from pylab import*\n",
    "from scipy.integrate import*\n",
    "%matplotlib inline"
   ]
  },
  {
   "cell_type": "code",
   "execution_count": 204,
   "metadata": {
    "collapsed": true
   },
   "outputs": [],
   "source": [
    "def mi_funcion(a,b):\n",
    "    c=a+b\n",
    "    return c\n"
   ]
  },
  {
   "cell_type": "code",
   "execution_count": 205,
   "metadata": {
    "collapsed": false
   },
   "outputs": [
    {
     "name": "stdout",
     "output_type": "stream",
     "text": [
      "11 30\n"
     ]
    }
   ],
   "source": [
    "b=mi_funcion(4,7)\n",
    "c=mi_funcion(b,19)\n",
    "print b,c"
   ]
  },
  {
   "cell_type": "code",
   "execution_count": 206,
   "metadata": {
    "collapsed": false
   },
   "outputs": [],
   "source": [
    "\n",
    "def fuerza(v_r,t,gama=0,viento=[0,0],m=1,g=9.8):\n",
    "    # v_r=[ry,rz,vy,vz]\n",
    "    dvz = -g/m-(gama/m)*v_r[3]+viento[1]\n",
    "    dvy = -(gama/m)*v_r[2] + viento[0]\n",
    "    drz = v_r[3]\n",
    "    dry = v_r[2]\n",
    "    return [dry,drz,dvy,dvz]"
   ]
  },
  {
   "cell_type": "code",
   "execution_count": 207,
   "metadata": {
    "collapsed": false
   },
   "outputs": [
    {
     "data": {
      "text/plain": [
       "<function matplotlib.pyplot.show>"
      ]
     },
     "execution_count": 207,
     "metadata": {},
     "output_type": "execute_result"
    },
    {
     "data": {
      "image/png": "[encoded data removed]",
      "text/plain": [
       "<matplotlib.figure.Figure at 0x7f035350e990>"
      ]
     },
     "metadata": {},
     "output_type": "display_data"
    }
   ],
   "source": [
    "tiempo = linspace(0,1)\n",
    "resultado = odeint(fuerza,[0,0,1,5],tiempo)\n",
    "y,z,vy,vz =resultado[:,0],resultado[:,1],resultado[:,2],resultado[:,3]\n",
    "plot(y,z)\n",
    "show\n"
   ]
  },
  {
   "cell_type": "code",
   "execution_count": 208,
   "metadata": {
    "collapsed": false
   },
   "outputs": [
    {
     "data": {
      "text/plain": [
       "<function matplotlib.pyplot.show>"
      ]
     },
     "execution_count": 208,
     "metadata": {},
     "output_type": "execute_result"
    },
    {
     "data": {
      "image/png": "[encoded data removed]",
      "text/plain": [
       "<matplotlib.figure.Figure at 0x7f035349fc50>"
      ]
     },
     "metadata": {},
     "output_type": "display_data"
    }
   ],
   "source": [
    "tiempo = linspace(0,1)\n",
    "resultado = odeint(fuerza,[0,0,1,5],tiempo)\n",
    "y,z,vy,vz =resultado[:,0],resultado[:,1],resultado[:,2],resultado[:,3]\n",
    "plot(y,z)\n",
    "show"
   ]
  },
  {
   "cell_type": "code",
   "execution_count": 209,
   "metadata": {
    "collapsed": false
   },
   "outputs": [
    {
     "name": "stdout",
     "output_type": "stream",
     "text": [
      "[0, 1, 0, -9.8]\n"
     ]
    }
   ],
   "source": [
    "salida=fuerza ([0,0,0,1],1)\n",
    "print salida"
   ]
  },
  {
   "cell_type": "code",
   "execution_count": 210,
   "metadata": {
    "collapsed": false
   },
   "outputs": [
    {
     "name": "stdout",
     "output_type": "stream",
     "text": [
      "[1, 2, 3, 523, 154, 1646, 13, 354]\n",
      "[2, 3, 523]\n"
     ]
    }
   ],
   "source": [
    "lista = [1,2,3,523,154,1646,13,354]\n",
    "print lista\n",
    "print lista[1:4]"
   ]
  },
  {
   "cell_type": "code",
   "execution_count": 211,
   "metadata": {
    "collapsed": false
   },
   "outputs": [
    {
     "name": "stdout",
     "output_type": "stream",
     "text": [
      "[0, 4, 8, 12, 16]\n"
     ]
    }
   ],
   "source": [
    "print range (0,20,4)"
   ]
  },
  {
   "cell_type": "code",
   "execution_count": 212,
   "metadata": {
    "collapsed": false
   },
   "outputs": [
    {
     "name": "stdout",
     "output_type": "stream",
     "text": [
      "3\n"
     ]
    }
   ],
   "source": [
    "def mi_funcion(a,b,c):\n",
    "    d = a + b + c\n",
    "    return d\n",
    "print mi_funcion(3,0,0)"
   ]
  },
  {
   "cell_type": "code",
   "execution_count": 213,
   "metadata": {
    "collapsed": false
   },
   "outputs": [
    {
     "data": {
      "text/plain": [
       "<function matplotlib.pyplot.show>"
      ]
     },
     "execution_count": 213,
     "metadata": {},
     "output_type": "execute_result"
    },
    {
     "data": {
      "image/png": "[encoded data removed]",
      "text/plain": [
       "<matplotlib.figure.Figure at 0x7f03531fc490>"
      ]
     },
     "metadata": {},
     "output_type": "display_data"
    }
   ],
   "source": [
    "tiempo = linspace(0,1)\n",
    "s_ideal= odeint(fuerza,[0,0,1,5],tiempo)\n",
    "y_id,z_id =s_ideal[:,0],s_ideal[:,1]\n",
    "s_fric= odeint(fuerza,[0,0,1,5],tiempo,args=(0.5,))\n",
    "y_f,z_f =s_fric[:,0],s_fric[:,1]\n",
    "s_f_v= odeint(fuerza,[0,0,1,5],tiempo,args=(0.5,[-3.5,0]))\n",
    "y_f_v,z_f_v=s_f_v[:,0],s_f_v[:,1]\n",
    "plot(y_id,z_id,y_f,z_f,y_f_v,z_f_v)\n",
    "xlim([-1,1.1]),ylim([0,1.4]),grid(True)\n",
    "show"
   ]
  },
  {
   "cell_type": "code",
   "execution_count": 214,
   "metadata": {
    "collapsed": false
   },
   "outputs": [],
   "source": [
    "def funcion1(x,otra_funcion):\n",
    "    salida=otra_funcion(x)+y\n",
    "    return salida\n",
    "\n",
    "def funcion2(x):\n",
    "    salida=x**2\n",
    "    return salida\n",
    "\n",
    "def funcion3(x):\n",
    "    salida=x**3\n",
    "    return salida\n",
    "\n"
   ]
  },
  {
   "cell_type": "raw",
   "metadata": {},
   "source": []
  },
  {
   "cell_type": "code",
   "execution_count": 215,
   "metadata": {
    "collapsed": false
   },
   "outputs": [
    {
     "name": "stdout",
     "output_type": "stream",
     "text": [
      "16.0\n",
      "64.0\n",
      "[ 125.          125.02040816  125.04081633  125.06122449  125.08163265\n",
      "  125.10204082  125.12244898  125.14285714  125.16326531  125.18367347\n",
      "  125.20408163  125.2244898   125.24489796  125.26530612  125.28571429\n",
      "  125.30612245  125.32653061  125.34693878  125.36734694  125.3877551\n",
      "  125.40816327  125.42857143  125.44897959  125.46938776  125.48979592\n",
      "  125.51020408  125.53061224  125.55102041  125.57142857  125.59183673\n",
      "  125.6122449   125.63265306  125.65306122  125.67346939  125.69387755\n",
      "  125.71428571  125.73469388  125.75510204  125.7755102   125.79591837\n",
      "  125.81632653  125.83673469  125.85714286  125.87755102  125.89795918\n",
      "  125.91836735  125.93877551  125.95918367  125.97959184  126.        ]\n"
     ]
    }
   ],
   "source": [
    "print funcion2(4.)\n",
    "print funcion3(4.)\n",
    "print funcion1(5.,funcion3)"
   ]
  },
  {
   "cell_type": "code",
   "execution_count": 216,
   "metadata": {
    "collapsed": false
   },
   "outputs": [
    {
     "name": "stdout",
     "output_type": "stream",
     "text": [
      "[2, 3, 4, 5, 6, 7, 8, 9]\n",
      "9\n"
     ]
    }
   ],
   "source": [
    "a=range(2,10)\n",
    "print a\n",
    "print a[-1] #pone el ultimo"
   ]
  },
  {
   "cell_type": "code",
   "execution_count": 217,
   "metadata": {
    "collapsed": false
   },
   "outputs": [],
   "source": [
    "def pedazo_trayectoria(pto_ini,dt=0.1,param=(0,[0,0],1,9.8)):\n",
    "    tiempo = array([0,dt])\n",
    "    sol=odeint(fuerza,pto_ini,tiempo,args=(param[0],param[1],param[2],param[3],))\n",
    "    return sol\n",
    "    \n",
    "    \n"
   ]
  },
  {
   "cell_type": "code",
   "execution_count": 218,
   "metadata": {
    "collapsed": false
   },
   "outputs": [
    {
     "data": {
      "text/plain": [
       "array([[ 0.   ,  0.   ,  1.   ,  1.   ],\n",
       "       [ 0.1  ,  0.051,  1.   ,  0.02 ]])"
      ]
     },
     "execution_count": 218,
     "metadata": {},
     "output_type": "execute_result"
    }
   ],
   "source": [
    "pedazo_trayectoria([0,0,1,1])"
   ]
  },
  {
   "cell_type": "code",
   "execution_count": 219,
   "metadata": {
    "collapsed": false
   },
   "outputs": [],
   "source": [
    "def rebote(punto,dt,param):\n",
    "    error=1e-5\n",
    "    dt=dt/2\n",
    "    sol=odeint(fuerza,punto,[0,dt],args=(param[0],param[1],param[2],param[3],))\n",
    "    while abs(sol[:,1][0]-sol[:,1][1])>error:\n",
    "        if sol[:,1][0]*sol[:,1][1]<0:  #si son negativos\n",
    "            punto=sol[0]\n",
    "        else:\n",
    "            punto=sol[1]\n",
    "        dt=dt/2\n",
    "        sol=odeint(fuerza,punto,[0,dt],args=(param[0],param[1],param[2],param[3],))\n",
    "        \n",
    "    return sol[0][0],sol[0][1],sol[0][2],-sol[0][3]\n",
    "            "
   ]
  },
  {
   "cell_type": "code",
   "execution_count": 220,
   "metadata": {
    "collapsed": false
   },
   "outputs": [],
   "source": [
    "def trayectoria(pto_ini,t_fin, param=(0,[0,0],1,9.8) ):\n",
    "    t_total,dt=[0],0.05\n",
    "    y=[pto_ini[0]]\n",
    "    z=[pto_ini[1]]\n",
    "    t_actual=0\n",
    "    while t_actual<= t_fin: #se ejecuta hasta que termina\n",
    "        t_actual=t_actual+dt  #para parar el tiempo\n",
    "        sol = odeint(fuerza,pto_ini,[0,dt],args=(param[0],param[1],param[2],param[3],))#odeint es una lib de ecuaciones\n",
    "        if sol[:,1][0]*sol[:,1][1]<0.:#print t_actual\n",
    "            sol=rebote(sol[0],dt,param)\n",
    "            y.append(sol[0])\n",
    "            z.append(sol[1])\n",
    "            pto_ini=sol\n",
    "        else:\n",
    "            y.append(sol[:,0][1])#pega lo {ultimo}\n",
    "            z.append(sol[:,1][1])#pega lo {ultimo} los dos puntos indica que tome todos\n",
    "            pto_ini=sol[1]\n",
    "    return y,z"
   ]
  },
  {
   "cell_type": "code",
   "execution_count": 234,
   "metadata": {
    "collapsed": false
   },
   "outputs": [
    {
     "data": {
      "text/plain": [
       "[<matplotlib.lines.Line2D at 0x7f03532406d0>]"
      ]
     },
     "execution_count": 234,
     "metadata": {},
     "output_type": "execute_result"
    },
    {
     "data": {
      "image/png": "[encoded data removed]",
      "text/plain": [
       "<matplotlib.figure.Figure at 0x7f0352de5d10>"
      ]
     },
     "metadata": {},
     "output_type": "display_data"
    }
   ],
   "source": [
    "y,z=trayectoria([0,0,1,3],3)\n",
    "plot (y,z,'o-') #'o'grafica con puntos y linea"
   ]
  },
  {
   "cell_type": "code",
   "execution_count": 226,
   "metadata": {
    "collapsed": false
   },
   "outputs": [
    {
     "data": {
      "text/plain": [
       "(0.61224365234374989, 3.7368311003308554e-06, 1.0, 2.9999877929687497)"
      ]
     },
     "execution_count": 226,
     "metadata": {},
     "output_type": "execute_result"
    }
   ],
   "source": [
    "rebote([0.6,0.036,1.,-2.88],0.05,[0,[0,0],1,9.8])"
   ]
  },
  {
   "cell_type": "code",
   "execution_count": 232,
   "metadata": {
    "collapsed": false
   },
   "outputs": [
    {
     "data": {
      "text/plain": [
       "[<matplotlib.lines.Line2D at 0x7f0353499a50>]"
      ]
     },
     "execution_count": 232,
     "metadata": {},
     "output_type": "execute_result"
    },
    {
     "data": {
      "image/png": "[encoded data removed]",
      "text/plain": [
       "<matplotlib.figure.Figure at 0x7f035363a350>"
      ]
     },
     "metadata": {},
     "output_type": "display_data"
    }
   ],
   "source": [
    "y,z=trayectoria([2,2,1,3],3,[0.5,[-1,0],1,9.8])\n",
    "plot (y,z,'o-') #'o'grafica con puntos y linea"
   ]
  },
  {
   "cell_type": "code",
   "execution_count": 241,
   "metadata": {
    "collapsed": false
   },
   "outputs": [
    {
     "data": {
      "text/plain": [
       "[<matplotlib.lines.Line2D at 0x7f0352a03d90>,\n",
       " <matplotlib.lines.Line2D at 0x7f0352a03f90>,\n",
       " <matplotlib.lines.Line2D at 0x7f0352a10650>]"
      ]
     },
     "execution_count": 241,
     "metadata": {},
     "output_type": "execute_result"
    },
    {
     "data": {
      "image/png": "[encoded data removed]",
      "text/plain": [
       "<matplotlib.figure.Figure at 0x7f0352c6ca50>"
      ]
     },
     "metadata": {},
     "output_type": "display_data"
    }
   ],
   "source": [
    "y_id,z_id=trayectoria([0,0,1,5],2)\n",
    "y_f,z_f=trayectoria([0,0,1,5],2,[0.5,[0,0],1,9.8])\n",
    "y_v,z_v=trayectoria([0,0,1,5],2,[0.5,[-3.5,0],1,9.8])\n",
    "plot (y_id,z_id,y_f,z_f,y_v,z_v) #'o'grafica con puntos y linea"
   ]
  },
  {
   "cell_type": "code",
   "execution_count": null,
   "metadata": {
    "collapsed": true
   },
   "outputs": [],
   "source": []
  }
 ],
 "metadata": {
  "kernelspec": {
   "display_name": "Python [Root]",
   "language": "python",
   "name": "Python [Root]"
  },
  "language_info": {
   "codemirror_mode": {
    "name": "ipython",
    "version": 2
   },
   "file_extension": ".py",
   "mimetype": "text/x-python",
   "name": "python",
   "nbconvert_exporter": "python",
   "pygments_lexer": "ipython2",
   "version": "2.7.12"
  }
 },
 "nbformat": 4,
 "nbformat_minor": 0
}
