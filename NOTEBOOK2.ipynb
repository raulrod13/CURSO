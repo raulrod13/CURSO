{
 "cells": [
  {
   "cell_type": "markdown",
   "metadata": {
    "collapsed": false
   },
   "source": [
    "# PELOTA QUE CAE\n",
    "Las ecuaciones de newton son:\n",
    "    $m \\frac{d^2\\vec r}{dt²}=-g \\hat k + \\vec f_{fricc}+\\vec f_{ext}$\n",
    "    \n",
    "    \n",
    "    \n",
    "    "
   ]
  },
  {
   "cell_type": "code",
   "execution_count": 25,
   "metadata": {
    "collapsed": true
   },
   "outputs": [],
   "source": [
    "from pylab import*\n",
    "from scipy.integrate import*\n",
    "%matplotlib inline"
   ]
  },
  {
   "cell_type": "code",
   "execution_count": 3,
   "metadata": {
    "collapsed": true
   },
   "outputs": [],
   "source": [
    "def mi_funcion(a,b):\n",
    "    c=a+b\n",
    "    return c\n"
   ]
  },
  {
   "cell_type": "code",
   "execution_count": 5,
   "metadata": {
    "collapsed": false
   },
   "outputs": [
    {
     "name": "stdout",
     "output_type": "stream",
     "text": [
      "11 30\n"
     ]
    }
   ],
   "source": [
    "b=mi_funcion(4,7)\n",
    "c=mi_funcion(b,19)\n",
    "print b,c"
   ]
  },
  {
   "cell_type": "code",
   "execution_count": 88,
   "metadata": {
    "collapsed": false
   },
   "outputs": [],
   "source": [
    "\n",
    "def fuerza(v_r,t,gama=0,viento=[0.0],m=1,g=9.8):\n",
    "    # v_r=[ry,rz,vy,vz]\n",
    "    dvz = -g/m-(gama/m)*v_r[3]+viento[1]\n",
    "    dvy = -(gama/m)*v_r[2] + viento[0]\n",
    "    drz = v_r[3]\n",
    "    dry = v_r[2]\n",
    "    return [dry,drz,dvy,dvz]"
   ]
  },
  {
   "cell_type": "code",
   "execution_count": 65,
   "metadata": {
    "collapsed": false
   },
   "outputs": [
    {
     "data": {
      "text/plain": [
       "<function matplotlib.pyplot.show>"
      ]
     },
     "execution_count": 65,
     "metadata": {},
     "output_type": "execute_result"
    },
    {
     "data": {
      "image/png": "[encoded data removed]",
      "text/plain": [
       "<matplotlib.figure.Figure at 0x7fc5b0077150>"
      ]
     },
     "metadata": {},
     "output_type": "display_data"
    }
   ],
   "source": [
    "tiempo = linspace(0,1)\n",
    "resultado = odeint(fuerza,[0,0,1,5],tiempo,args=(0.1,))\n",
    "y,z,vy,vz =resultado[:,0],resultado[:,1],resultado[:,2],resultado[:,3]\n",
    "plot(y,z)\n",
    "show\n"
   ]
  },
  {
   "cell_type": "code",
   "execution_count": 53,
   "metadata": {
    "collapsed": false
   },
   "outputs": [
    {
     "data": {
      "text/plain": [
       "<function matplotlib.pyplot.show>"
      ]
     },
     "execution_count": 53,
     "metadata": {},
     "output_type": "execute_result"
    },
    {
     "data": {
      "image/png": "[encoded data removed]",
      "text/plain": [
       "<matplotlib.figure.Figure at 0x7fc5a9fdf350>"
      ]
     },
     "metadata": {},
     "output_type": "display_data"
    }
   ],
   "source": [
    "tiempo = linspace(0,1)\n",
    "resultado = odeint(fuerza,[0,0,1,5],tiempo)\n",
    "y,z,vy,vz =resultado[:,0],resultado[:,1],resultado[:,2],resultado[:,3]\n",
    "plot(y,z)\n",
    "show"
   ]
  },
  {
   "cell_type": "code",
   "execution_count": 37,
   "metadata": {
    "collapsed": false
   },
   "outputs": [
    {
     "name": "stdout",
     "output_type": "stream",
     "text": [
      "[0, 1, 0, -9.8]\n"
     ]
    }
   ],
   "source": [
    "salida=fuerza ([0,0,0,1],1)\n",
    "print salida"
   ]
  },
  {
   "cell_type": "code",
   "execution_count": 18,
   "metadata": {
    "collapsed": false
   },
   "outputs": [
    {
     "name": "stdout",
     "output_type": "stream",
     "text": [
      "[1, 2, 3, 523, 154, 1646, 13, 354]\n",
      "[2, 3, 523]\n"
     ]
    }
   ],
   "source": [
    "lista = [1,2,3,523,154,1646,13,354]\n",
    "print lista\n",
    "print lista[1:4]"
   ]
  },
  {
   "cell_type": "code",
   "execution_count": 54,
   "metadata": {
    "collapsed": false
   },
   "outputs": [
    {
     "name": "stdout",
     "output_type": "stream",
     "text": [
      "[0, 4, 8, 12, 16]\n"
     ]
    }
   ],
   "source": [
    "print range (0,20,4)"
   ]
  },
  {
   "cell_type": "code",
   "execution_count": 87,
   "metadata": {
    "collapsed": false
   },
   "outputs": [
    {
     "name": "stdout",
     "output_type": "stream",
     "text": [
      "3\n"
     ]
    }
   ],
   "source": [
    "def mi_funcion(a,b,c):\n",
    "    d = a + b + c\n",
    "    return d\n",
    "print mi_funcion(3,0,0)"
   ]
  },
  {
   "cell_type": "code",
   "execution_count": null,
   "metadata": {
    "collapsed": false
   },
   "outputs": [],
   "source": [
    "tiempo = linspace(0,1)\n",
    "s_ideal= odeint(fuerza,[0,0,1,5],tiempo)\n",
    "y_id,z_id =s_ideal[:,0],s_ideal[:,1]\n",
    "s_fric= odeint(fuerza,[0,0,1,5],tiempo,args=(0.5,))\n",
    "y_f,z_f =s_fric[:,0],s_fric[:,1]\n",
    "s_f_v= odeint(fuerza,[0,0,1,5],tiempo,args=(0.5,[-3.5,0]))\n",
    "y_f_v,z_f_v=s_f_v[:,0],s_f_v[:,1]\n",
    "plot(y_id,z_id,y_f,z_f,y_f_v,z_f_v)\n",
    "xlim([-1,1.1]),ylim([0,1.4]),grid(true)\n",
    "show"
   ]
  },
  {
   "cell_type": "code",
   "execution_count": null,
   "metadata": {
    "collapsed": true
   },
   "outputs": [],
   "source": []
  }
 ],
 "metadata": {
  "kernelspec": {
   "display_name": "Python 2 (SageMath)",
   "language": "python",
   "name": "python2"
  },
  "language_info": {
   "codemirror_mode": {
    "name": "ipython",
    "version": 2
   },
   "file_extension": ".py",
   "mimetype": "text/x-python",
   "name": "python",
   "nbconvert_exporter": "python",
   "pygments_lexer": "ipython2",
   "version": "2.7.10"
  }
 },
 "nbformat": 4,
 "nbformat_minor": 0
}
